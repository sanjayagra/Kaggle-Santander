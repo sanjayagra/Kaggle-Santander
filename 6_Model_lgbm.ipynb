{
 "cells": [
  {
   "cell_type": "code",
   "execution_count": 1,
   "metadata": {},
   "outputs": [
    {
     "name": "stderr",
     "output_type": "stream",
     "text": [
      "/home/ec2-user/anaconda3/lib/python3.6/site-packages/matplotlib/__init__.py:962: UserWarning: Duplicate key in file \"/home/ec2-user/.config/matplotlib/matplotlibrc\", line #2\n",
      "  (fname, cnt))\n",
      "/home/ec2-user/anaconda3/lib/python3.6/site-packages/matplotlib/__init__.py:962: UserWarning: Duplicate key in file \"/home/ec2-user/.config/matplotlib/matplotlibrc\", line #3\n",
      "  (fname, cnt))\n"
     ]
    }
   ],
   "source": [
    "import numpy as np\n",
    "import pandas as pd\n",
    "from sklearn.model_selection import train_test_split\n",
    "from sklearn import random_projection\n",
    "import lightgbm as lgb\n",
    "from math import exp, log\n",
    "path = '/home/ec2-user/Sanjay/main/santander/'"
   ]
  },
  {
   "cell_type": "code",
   "execution_count": 3,
   "metadata": {},
   "outputs": [],
   "source": [
    "X_train = pd.read_csv(path + 'codes/data/' + '1_raw_data_train.csv')\n",
    "X_test = pd.read_csv(path + 'codes/data/' + '1_raw_data_test.csv')\n",
    "\n",
    "test_df = pd.read_csv(path + 'test.csv',  usecols=['ID'])\n",
    "train_df = pd.read_csv(path + 'train.csv', usecols=['target'])\n",
    "y_train = train_df[['target']]['target'].map(lambda x : log(1+x))\n",
    "X_train.shape, X_test.shape, train_df.shape"
   ]
  },
  {
   "cell_type": "code",
   "execution_count": 6,
   "metadata": {},
   "outputs": [
    {
     "name": "stdout",
     "output_type": "stream",
     "text": [
      "(4459, 50) (49343, 50) (4459, 9) (49343, 9) (4459, 9) (49343, 9) (4459, 20) (49343, 20)\n"
     ]
    }
   ],
   "source": [
    "Random_Projection_train = pd.read_csv(path + 'codes/data/' + '2_Random_Projection_train.csv')\n",
    "Random_Projection_test = pd.read_csv(path + 'codes/data/' + '2_Random_Projection_test.csv')\n",
    "\n",
    "kmeans_train = pd.read_csv(path + 'codes/data/' + '3_kmeans_train.csv')\n",
    "kmeans_test = pd.read_csv(path + 'codes/data/' + '3_kmeans_test.csv')\n",
    "\n",
    "aggr_train = pd.read_csv(path + 'codes/data/' + '4_aggr_train.csv')\n",
    "aggr_test = pd.read_csv(path + 'codes/data/' + '4_aggr_test.csv')\n",
    "\n",
    "pca_train = pd.read_csv(path + 'codes/data/' + '5_pca_train.csv')\n",
    "pca_test = pd.read_csv(path + 'codes/data/' + '5_pca_test.csv')\n",
    "\n",
    "print(Random_Projection_train.shape, Random_Projection_test.shape, \n",
    "      kmeans_train.shape, kmeans_test.shape,\n",
    "      aggr_train.shape, aggr_test.shape, \n",
    "      pca_train.shape, pca_test.shape )"
   ]
  },
  {
   "cell_type": "code",
   "execution_count": 7,
   "metadata": {},
   "outputs": [
    {
     "data": {
      "text/plain": [
       "((4459, 4818), (49343, 4818))"
      ]
     },
     "execution_count": 7,
     "metadata": {},
     "output_type": "execute_result"
    }
   ],
   "source": [
    "train = X_train.join(Random_Projection_train).join(kmeans_train).join(aggr_train).join(pca_train)\n",
    "test = X_test.join(Random_Projection_test).join(kmeans_test).join(aggr_test).join(pca_test)\n",
    "train.shape, test.shape"
   ]
  },
  {
   "cell_type": "markdown",
   "metadata": {},
   "source": [
    "#### 10 fold CV LightGBM"
   ]
  },
  {
   "cell_type": "code",
   "execution_count": 11,
   "metadata": {},
   "outputs": [],
   "source": [
    "parameters = {\n",
    "    'task': 'train',\n",
    "    'boosting_type': 'gbdt',\n",
    "    'objective': 'regression',\n",
    "    'metric': 'rmse',\n",
    "    'num_leaves': 100,\n",
    "    'learning_rate': 0.005,\n",
    "    'feature_fraction': 0.9,\n",
    "    'bagging_fraction': 0.8,\n",
    "    'bagging_seed' : 42,\n",
    "    'bagging_freq': 5,\n",
    "    'verbose': 50\n",
    "}"
   ]
  },
  {
   "cell_type": "code",
   "execution_count": 12,
   "metadata": {},
   "outputs": [],
   "source": [
    "def lgbm_model(X_tr, y_tr, X_va, y_va, test, fold):\n",
    "    tr_data = lgb.Dataset(X_tr, label=y_tr)\n",
    "    va_data = lgb.Dataset(X_va, label=y_va)\n",
    "    \n",
    "    model = lgb.train(parameters,\n",
    "                      tr_data,\n",
    "                      valid_sets=va_data,\n",
    "                      num_boost_round=4000,\n",
    "                      early_stopping_rounds=120,\n",
    "                      verbose_eval=300)\n",
    "    \n",
    "    y_pred = model.predict(X_va)\n",
    "    valid = pd.DataFrame(y_pred, columns=['prob' + str(fold)])\n",
    "    test_pred = model.predict(test)\n",
    "    test = pd.DataFrame(test_pred, columns=['prob' + str(fold)])\n",
    "    return test"
   ]
  },
  {
   "cell_type": "code",
   "execution_count": 15,
   "metadata": {},
   "outputs": [
    {
     "name": "stdout",
     "output_type": "stream",
     "text": [
      "FOLD  1  ----------------------------------------------------------------------------------\n",
      "(4013, 4818) (4013,) (446, 4818) (446,)\n",
      "Training until validation scores don't improve for 120 rounds.\n",
      "[300]\tvalid_0's rmse: 1.35284\n",
      "Early stopping, best iteration is:\n",
      "[365]\tvalid_0's rmse: 1.34921\n",
      "(49343, 1) (49343, 2)\n",
      "FOLD  2  ----------------------------------------------------------------------------------\n",
      "(4013, 4818) (4013,) (446, 4818) (446,)\n",
      "Training until validation scores don't improve for 120 rounds.\n",
      "[300]\tvalid_0's rmse: 1.36369\n",
      "[600]\tvalid_0's rmse: 1.33836\n",
      "Early stopping, best iteration is:\n",
      "[645]\tvalid_0's rmse: 1.33776\n",
      "(49343, 1) (49343, 3)\n",
      "FOLD  3  ----------------------------------------------------------------------------------\n",
      "(4013, 4818) (4013,) (446, 4818) (446,)\n",
      "Training until validation scores don't improve for 120 rounds.\n",
      "[300]\tvalid_0's rmse: 1.34484\n",
      "[600]\tvalid_0's rmse: 1.29242\n",
      "Early stopping, best iteration is:\n",
      "[715]\tvalid_0's rmse: 1.28887\n",
      "(49343, 1) (49343, 4)\n",
      "FOLD  4  ----------------------------------------------------------------------------------\n",
      "(4013, 4818) (4013,) (446, 4818) (446,)\n",
      "Training until validation scores don't improve for 120 rounds.\n",
      "[300]\tvalid_0's rmse: 1.34444\n",
      "[600]\tvalid_0's rmse: 1.30586\n",
      "[900]\tvalid_0's rmse: 1.30207\n",
      "Early stopping, best iteration is:\n",
      "[955]\tvalid_0's rmse: 1.30072\n",
      "(49343, 1) (49343, 5)\n",
      "FOLD  5  ----------------------------------------------------------------------------------\n",
      "(4013, 4818) (4013,) (446, 4818) (446,)\n",
      "Training until validation scores don't improve for 120 rounds.\n",
      "[300]\tvalid_0's rmse: 1.33941\n",
      "[600]\tvalid_0's rmse: 1.32154\n",
      "[900]\tvalid_0's rmse: 1.32166\n",
      "Early stopping, best iteration is:\n",
      "[835]\tvalid_0's rmse: 1.32003\n",
      "(49343, 1) (49343, 6)\n",
      "FOLD  6  ----------------------------------------------------------------------------------\n",
      "(4013, 4818) (4013,) (446, 4818) (446,)\n",
      "Training until validation scores don't improve for 120 rounds.\n",
      "[300]\tvalid_0's rmse: 1.42032\n",
      "[600]\tvalid_0's rmse: 1.40049\n",
      "Early stopping, best iteration is:\n",
      "[579]\tvalid_0's rmse: 1.39992\n",
      "(49343, 1) (49343, 7)\n",
      "FOLD  7  ----------------------------------------------------------------------------------\n",
      "(4013, 4818) (4013,) (446, 4818) (446,)\n",
      "Training until validation scores don't improve for 120 rounds.\n",
      "[300]\tvalid_0's rmse: 1.39588\n",
      "[600]\tvalid_0's rmse: 1.36184\n",
      "[900]\tvalid_0's rmse: 1.35895\n",
      "Early stopping, best iteration is:\n",
      "[801]\tvalid_0's rmse: 1.35769\n",
      "(49343, 1) (49343, 8)\n",
      "FOLD  8  ----------------------------------------------------------------------------------\n",
      "(4013, 4818) (4013,) (446, 4818) (446,)\n",
      "Training until validation scores don't improve for 120 rounds.\n",
      "[300]\tvalid_0's rmse: 1.39612\n",
      "[600]\tvalid_0's rmse: 1.35502\n",
      "[900]\tvalid_0's rmse: 1.34361\n",
      "[1200]\tvalid_0's rmse: 1.34034\n",
      "Early stopping, best iteration is:\n",
      "[1140]\tvalid_0's rmse: 1.33963\n",
      "(49343, 1) (49343, 9)\n",
      "FOLD  9  ----------------------------------------------------------------------------------\n",
      "(4013, 4818) (4013,) (446, 4818) (446,)\n",
      "Training until validation scores don't improve for 120 rounds.\n",
      "[300]\tvalid_0's rmse: 1.36376\n",
      "[600]\tvalid_0's rmse: 1.32787\n",
      "Early stopping, best iteration is:\n",
      "[629]\tvalid_0's rmse: 1.32741\n",
      "(49343, 1) (49343, 10)\n",
      "FOLD  10  ----------------------------------------------------------------------------------\n",
      "(4014, 4818) (4014,) (445, 4818) (445,)\n",
      "Training until validation scores don't improve for 120 rounds.\n",
      "[300]\tvalid_0's rmse: 1.4009\n",
      "[600]\tvalid_0's rmse: 1.3697\n",
      "[900]\tvalid_0's rmse: 1.36463\n",
      "Early stopping, best iteration is:\n",
      "[1047]\tvalid_0's rmse: 1.36345\n",
      "(49343, 1) (49343, 11)\n"
     ]
    }
   ],
   "source": [
    "from sklearn.model_selection import KFold\n",
    "X = train\n",
    "y = y_train\n",
    "kf = KFold(n_splits=10, shuffle=True, random_state=2017)\n",
    "kf.get_n_splits(X), kf.split(X)\n",
    "fold=1\n",
    "valid_final = test_df[['ID']]\n",
    "for train_idx, test_idx in kf.split(X):\n",
    "    print(\"FOLD \", fold, \" ----------------------------------------------------------------------------------\")\n",
    "    X_tr = X[X.index.isin(train_idx)]\n",
    "    y_tr = y[y.index.isin(train_idx)]\n",
    "    X_va = X[X.index.isin(test_idx)]\n",
    "    y_va = y[y.index.isin(test_idx)]\n",
    "    print(X_tr.shape, y_tr.shape, X_va.shape, y_va.shape)\n",
    "    valid = lgbm_model(X_tr, y_tr, X_va, y_va, test, fold)\n",
    "    valid_final = valid_final.join(valid)\n",
    "    print(valid.shape, valid_final.shape)\n",
    "    fold = fold+1"
   ]
  },
  {
   "cell_type": "code",
   "execution_count": 16,
   "metadata": {},
   "outputs": [],
   "source": [
    "valid_final['target'] = valid_final.iloc[:,1:fold].mean(axis=1)\n",
    "valid_final['target'] = valid_final['target'].map(lambda x : exp(x)-1)"
   ]
  },
  {
   "cell_type": "code",
   "execution_count": 17,
   "metadata": {},
   "outputs": [],
   "source": [
    "valid_final = valid_final.iloc[:49342]\n",
    "valid_final.to_csv(path + 'submit/' + 'lgbm_10fold_1.csv', index=False)\n",
    "valid_final[['ID', 'target']].to_csv(path + 'submit/' + 'lgbm_1.csv', index=False)"
   ]
  },
  {
   "cell_type": "markdown",
   "metadata": {},
   "source": [
    "### Predict the nearby input"
   ]
  },
  {
   "cell_type": "code",
   "execution_count": 7,
   "metadata": {},
   "outputs": [],
   "source": [
    "pred = pd.read_csv(path + 'submit/' + 'lgbm_1.csv')\n",
    "pred_input = pd.read_csv(path + 'test.csv')\n",
    "pred = pred.merge(pred_input, on='ID', how='inner')\n",
    "pred.shape, pred_input.shape"
   ]
  },
  {
   "cell_type": "code",
   "execution_count": 16,
   "metadata": {},
   "outputs": [],
   "source": [
    "def nearby_value(array, value):\n",
    "    idx,val = min(enumerate(np.sort(array[array!=0])), key=lambda x: abs(x[1]-value))\n",
    "    return val"
   ]
  },
  {
   "cell_type": "code",
   "execution_count": 18,
   "metadata": {},
   "outputs": [],
   "source": [
    "close_value = []\n",
    "for i in range(pred.shape[0]):\n",
    "    if (i%5000)==0:\n",
    "        print(i)\n",
    "    close_value.append(nearby_value(pred.iloc[0][pred.columns[1:]].values, pred.target[i]))"
   ]
  },
  {
   "cell_type": "code",
   "execution_count": 22,
   "metadata": {},
   "outputs": [],
   "source": [
    "pred['target'] = close_value"
   ]
  },
  {
   "cell_type": "code",
   "execution_count": 24,
   "metadata": {},
   "outputs": [],
   "source": [
    "pred[['ID', 'target']].to_csv(path + 'submit/' + 'lgbm_1_nearby_input.csv', index=False)"
   ]
  },
  {
   "cell_type": "markdown",
   "metadata": {},
   "source": [
    "### Ensemble"
   ]
  },
  {
   "cell_type": "code",
   "execution_count": 9,
   "metadata": {},
   "outputs": [],
   "source": [
    "import pandas as pd\n",
    "path = '/home/ec2-user/Sanjay/main/santander/'\n",
    "data1 = pd.read_csv(path + 'submit/' + 'baseline_sub_lag_37.csv')\n",
    "data2 = pd.read_csv(path + 'submit/' + 'check_blend1.csv')"
   ]
  },
  {
   "cell_type": "code",
   "execution_count": 10,
   "metadata": {},
   "outputs": [],
   "source": [
    "import copy\n",
    "data = data1.copy()\n",
    "data['target'] = data1['target']*0.7 + data2['target']*0.3"
   ]
  },
  {
   "cell_type": "code",
   "execution_count": 11,
   "metadata": {},
   "outputs": [],
   "source": [
    "data[['ID', 'target']].to_csv(path + 'submit/' + 'check_blend1.csv', index=False)"
   ]
  }
 ],
 "metadata": {
  "kernelspec": {
   "display_name": "Python 3",
   "language": "python",
   "name": "python3"
  },
  "language_info": {
   "codemirror_mode": {
    "name": "ipython",
    "version": 3
   },
   "file_extension": ".py",
   "mimetype": "text/x-python",
   "name": "python",
   "nbconvert_exporter": "python",
   "pygments_lexer": "ipython3",
   "version": "3.6.3"
  }
 },
 "nbformat": 4,
 "nbformat_minor": 2
}
