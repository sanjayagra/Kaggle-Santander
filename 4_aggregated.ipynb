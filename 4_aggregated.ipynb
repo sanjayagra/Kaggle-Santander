{
 "cells": [
  {
   "cell_type": "code",
   "execution_count": 2,
   "metadata": {},
   "outputs": [],
   "source": [
    "import numpy as np\n",
    "import pandas as pd\n",
    "from sklearn.model_selection import train_test_split\n",
    "from sklearn import random_projection\n",
    "import lightgbm as lgb\n",
    "from math import exp, log\n",
    "path = '/home/ec2-user/Sanjay/main/santander/'"
   ]
  },
  {
   "cell_type": "code",
   "execution_count": 6,
   "metadata": {},
   "outputs": [
    {
     "data": {
      "text/plain": [
       "((4459, 4730), (49343, 4730))"
      ]
     },
     "execution_count": 6,
     "metadata": {},
     "output_type": "execute_result"
    }
   ],
   "source": [
    "X_train = pd.read_csv(path + 'codes/data/' + '1_raw_data_train.csv')\n",
    "X_test = pd.read_csv(path + 'codes/data/' + '1_raw_data_test.csv')\n",
    "X_train.shape, X_test.shape"
   ]
  },
  {
   "cell_type": "code",
   "execution_count": 4,
   "metadata": {},
   "outputs": [],
   "source": [
    "weight = ((X_train != 0).sum()/len(X_train)).values"
   ]
  },
  {
   "cell_type": "code",
   "execution_count": 5,
   "metadata": {},
   "outputs": [
    {
     "data": {
      "text/plain": [
       "((4459, 4730), (49343, 4730), (53802, 4730))"
      ]
     },
     "execution_count": 5,
     "metadata": {},
     "output_type": "execute_result"
    }
   ],
   "source": [
    "tmp_train = X_train[X_train!=0]\n",
    "tmp_test = X_test[X_test!=0]\n",
    "tmp = pd.concat([X_train,X_test]).fillna(0)\n",
    "tmp_train.shape, tmp_test.shape, tmp.shape"
   ]
  },
  {
   "cell_type": "code",
   "execution_count": 10,
   "metadata": {},
   "outputs": [],
   "source": [
    "X_train[\"weight_count\"] = (tmp_train*weight).sum(axis=1)\n",
    "X_test[\"weight_count\"] = (tmp_test*weight).sum(axis=1)\n",
    "X_train[\"count_0\"] = (X_train == 0).sum(axis=1)\n",
    "X_test[\"count_0\"] = (X_test == 0).sum(axis=1)\n",
    "X_train[\"count_not0\"] = (X_train != 0).sum(axis=1)\n",
    "X_test[\"count_not0\"] = (X_test != 0).sum(axis=1)\n",
    "X_train[\"sum\"] = X_train.sum(axis=1)\n",
    "X_test[\"sum\"] = X_test.sum(axis=1)\n",
    "X_train[\"var\"] = tmp_train.var(axis=1)\n",
    "X_test[\"var\"] = tmp_test.var(axis=1)\n",
    "X_train[\"mean\"] = tmp_train.mean(axis=1)\n",
    "X_test[\"mean\"] = tmp_test.mean(axis=1)\n",
    "X_train[\"std\"] = tmp_train.std(axis=1)\n",
    "X_test[\"std\"] = tmp_test.std(axis=1)\n",
    "X_train[\"max\"] = tmp_train.max(axis=1)\n",
    "X_test[\"max\"] = tmp_test.max(axis=1)\n",
    "X_train[\"min\"] = tmp_train.min(axis=1)\n",
    "X_test[\"min\"] = tmp_test.min(axis=1)"
   ]
  },
  {
   "cell_type": "code",
   "execution_count": 15,
   "metadata": {},
   "outputs": [],
   "source": [
    "X_train.iloc[:,4730:].to_csv(path + 'codes/data/' + '4_aggr_train.csv', index=False)\n",
    "X_test.iloc[:,4730:].to_csv(path + 'codes/data/' + '4_aggr_test.csv', index=False)"
   ]
  },
  {
   "cell_type": "code",
   "execution_count": null,
   "metadata": {},
   "outputs": [],
   "source": []
  },
  {
   "cell_type": "code",
   "execution_count": null,
   "metadata": {},
   "outputs": [],
   "source": []
  }
 ],
 "metadata": {
  "kernelspec": {
   "display_name": "Python 3",
   "language": "python",
   "name": "python3"
  },
  "language_info": {
   "codemirror_mode": {
    "name": "ipython",
    "version": 3
   },
   "file_extension": ".py",
   "mimetype": "text/x-python",
   "name": "python",
   "nbconvert_exporter": "python",
   "pygments_lexer": "ipython3",
   "version": "3.6.3"
  }
 },
 "nbformat": 4,
 "nbformat_minor": 2
}
