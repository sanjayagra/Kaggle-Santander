{
 "cells": [
  {
   "cell_type": "code",
   "execution_count": 2,
   "metadata": {},
   "outputs": [],
   "source": [
    "import numpy as np\n",
    "import pandas as pd\n",
    "from sklearn.model_selection import train_test_split\n",
    "from sklearn import random_projection\n",
    "import lightgbm as lgb\n",
    "from math import exp, log\n",
    "from catboost import CatBoostRegressor\n",
    "path = '/home/ec2-user/Sanjay/main/santander/'"
   ]
  },
  {
   "cell_type": "code",
   "execution_count": 3,
   "metadata": {},
   "outputs": [
    {
     "data": {
      "text/plain": [
       "((4459, 4991), (49343, 4991))"
      ]
     },
     "execution_count": 3,
     "metadata": {},
     "output_type": "execute_result"
    }
   ],
   "source": [
    "train_df = pd.read_csv(path + 'train.csv')\n",
    "test_df = pd.read_csv(path + 'test.csv')\n",
    "\n",
    "X_train = train_df.drop([\"ID\", \"target\"], axis=1)\n",
    "y_train = train_df[['target']]['target'].map(lambda x : log(1+x))\n",
    "\n",
    "X_test = test_df.drop([\"ID\"], axis=1)\n",
    "ntrain = len(X_train)\n",
    "ntest = len(X_test)\n",
    "X_train.shape, X_test.shape"
   ]
  },
  {
   "cell_type": "code",
   "execution_count": 4,
   "metadata": {},
   "outputs": [
    {
     "name": "stdout",
     "output_type": "stream",
     "text": [
      "Preparetion\n"
     ]
    },
    {
     "data": {
      "text/plain": [
       "((4459, 4735), (49343, 4735), 256)"
      ]
     },
     "execution_count": 4,
     "metadata": {},
     "output_type": "execute_result"
    }
   ],
   "source": [
    "print(\"Preparetion\")\n",
    "colsToRemove = []\n",
    "for col in X_train.columns:\n",
    "    if X_train[col].std() == 0: \n",
    "        colsToRemove.append(col)\n",
    "    \n",
    "X_train.drop(colsToRemove, axis=1, inplace=True)\n",
    "X_test.drop(colsToRemove, axis=1, inplace=True)\n",
    "\n",
    "X_train.shape, X_test.shape, len(colsToRemove)"
   ]
  },
  {
   "cell_type": "code",
   "execution_count": 5,
   "metadata": {},
   "outputs": [
    {
     "data": {
      "text/plain": [
       "((4459, 4730), (49343, 4730), 4)"
      ]
     },
     "execution_count": 5,
     "metadata": {},
     "output_type": "execute_result"
    }
   ],
   "source": [
    "colsToRemove = []\n",
    "colsScaned = []\n",
    "dupList = {}\n",
    "columns = X_train.columns\n",
    "\n",
    "for i in range(len(columns)-1):\n",
    "    v = X_train[columns[i]].values\n",
    "    dupCols = []\n",
    "    for j in range(i+1,len(columns)):\n",
    "        if np.array_equal(v, X_train[columns[j]].values):\n",
    "            colsToRemove.append(columns[j])\n",
    "            if columns[j] not in colsScaned:\n",
    "                dupCols.append(columns[j]) \n",
    "                colsScaned.append(columns[j])\n",
    "                dupList[columns[i]] = dupCols\n",
    "                \n",
    "X_train.drop(colsToRemove, axis=1, inplace=True) \n",
    "X_test.drop(colsToRemove, axis=1, inplace=True)\n",
    "X_train.shape, X_test.shape, len(dupList)"
   ]
  },
  {
   "cell_type": "code",
   "execution_count": 6,
   "metadata": {},
   "outputs": [],
   "source": [
    "weight = ((X_train != 0).sum()/len(X_train)).values"
   ]
  },
  {
   "cell_type": "code",
   "execution_count": 7,
   "metadata": {},
   "outputs": [
    {
     "data": {
      "text/plain": [
       "((4459, 4730), (49343, 4730), (53802, 4730))"
      ]
     },
     "execution_count": 7,
     "metadata": {},
     "output_type": "execute_result"
    }
   ],
   "source": [
    "tmp_train = X_train[X_train!=0]\n",
    "tmp_test = X_test[X_test!=0]\n",
    "tmp = pd.concat([X_train,X_test]).fillna(0)\n",
    "tmp_train.shape, tmp_test.shape, tmp.shape"
   ]
  },
  {
   "cell_type": "code",
   "execution_count": 8,
   "metadata": {},
   "outputs": [],
   "source": [
    "X_train[\"weight_count\"] = (tmp_train*weight).sum(axis=1)\n",
    "X_test[\"weight_count\"] = (tmp_test*weight).sum(axis=1)\n",
    "X_train[\"count_not0\"] = (X_train != 0).sum(axis=1)\n",
    "X_test[\"count_not0\"] = (X_test != 0).sum(axis=1)\n",
    "X_train[\"sum\"] = X_train.sum(axis=1)\n",
    "X_test[\"sum\"] = X_test.sum(axis=1)\n",
    "X_train[\"var\"] = tmp_train.var(axis=1)\n",
    "X_test[\"var\"] = tmp_test.var(axis=1)\n",
    "X_train[\"mean\"] = tmp_train.mean(axis=1)\n",
    "X_test[\"mean\"] = tmp_test.mean(axis=1)\n",
    "X_train[\"std\"] = tmp_train.std(axis=1)\n",
    "X_test[\"std\"] = tmp_test.std(axis=1)\n",
    "X_train[\"max\"] = tmp_train.max(axis=1)\n",
    "X_test[\"max\"] = tmp_test.max(axis=1)\n",
    "X_train[\"min\"] = tmp_train.min(axis=1)\n",
    "X_test[\"min\"] = tmp_test.min(axis=1)"
   ]
  },
  {
   "cell_type": "code",
   "execution_count": 9,
   "metadata": {},
   "outputs": [],
   "source": [
    "del(tmp_train)\n",
    "del(tmp_test)"
   ]
  },
  {
   "cell_type": "code",
   "execution_count": 10,
   "metadata": {},
   "outputs": [],
   "source": [
    "n_com = 100\n",
    "transformer = random_projection.SparseRandomProjection(n_components = n_com)\n",
    "RP = transformer.fit_transform(tmp)\n",
    "rp = pd.DataFrame(RP)"
   ]
  },
  {
   "cell_type": "code",
   "execution_count": 11,
   "metadata": {},
   "outputs": [],
   "source": [
    "columns = [\"RandomProjection{}\".format(i) for i in range(n_com)]\n",
    "rp.columns = columns\n",
    "rp_train = rp[:ntrain]\n",
    "rp_test = rp[ntrain:]\n",
    "rp_test.index = X_test.index"
   ]
  },
  {
   "cell_type": "code",
   "execution_count": 12,
   "metadata": {},
   "outputs": [
    {
     "data": {
      "text/plain": [
       "((4459, 4838), (49343, 4838))"
      ]
     },
     "execution_count": 12,
     "metadata": {},
     "output_type": "execute_result"
    }
   ],
   "source": [
    "X_train = pd.concat([X_train,rp_train],axis=1)\n",
    "X_test = pd.concat([X_test,rp_test],axis=1)\n",
    "X_train.shape, X_test.shape"
   ]
  },
  {
   "cell_type": "markdown",
   "metadata": {},
   "source": [
    "### 5fold CV CatBoost"
   ]
  },
  {
   "cell_type": "code",
   "execution_count": 13,
   "metadata": {},
   "outputs": [],
   "source": [
    "model = CatBoostRegressor(iterations=800, \n",
    "                          learning_rate=0.05, \n",
    "                          depth=12, \n",
    "                          l2_leaf_reg=9, \n",
    "                          rsm=1, \n",
    "                          one_hot_max_size=1, \n",
    "                          random_strength=1, \n",
    "                          bagging_temperature=1, \n",
    "                          thread_count=16, \n",
    "                          random_seed=2, \n",
    "                          metric_period = 100,\n",
    "                          loss_function='RMSE')"
   ]
  },
  {
   "cell_type": "code",
   "execution_count": 14,
   "metadata": {},
   "outputs": [],
   "source": [
    "def lgbm_model(X_tr, y_tr, X_va, y_va, test, fold):\n",
    "\n",
    "    model.fit(X_tr, y_tr, use_best_model=True, eval_set=(X_va, y_va), verbose=True)\n",
    "    \n",
    "    y_pred = model.predict(X_va)\n",
    "    valid = pd.DataFrame(y_pred, columns=['prob' + str(fold)])\n",
    "    test_pred = model.predict(test)\n",
    "    test = pd.DataFrame(test_pred, columns=['prob' + str(fold)])\n",
    "    return test"
   ]
  },
  {
   "cell_type": "code",
   "execution_count": 15,
   "metadata": {},
   "outputs": [
    {
     "name": "stdout",
     "output_type": "stream",
     "text": [
      "FOLD  1  ----------------------------------------------------------------------------------\n",
      "(3567, 4838) (3567,) (892, 4838) (892,)\n",
      "0:\tlearn: 13.8839842\ttest: 13.9684641\tbest: 13.9684641 (0)\ttotal: 8.54s\tremaining: 7h 7m 5s\n",
      "100:\tlearn: 1.4372076\ttest: 1.4698139\tbest: 1.4698139 (100)\ttotal: 13m 53s\tremaining: 6h 38m 42s\n",
      "200:\tlearn: 1.3017608\ttest: 1.3999876\tbest: 1.3999876 (200)\ttotal: 27m 40s\tremaining: 6h 25m 21s\n",
      "300:\tlearn: 1.2021116\ttest: 1.3869673\tbest: 1.3869673 (300)\ttotal: 41m 28s\tremaining: 6h 11m 55s\n",
      "400:\tlearn: 1.1148224\ttest: 1.3838947\tbest: 1.3836313 (379)\ttotal: 55m 20s\tremaining: 5h 58m 39s\n",
      "500:\tlearn: 1.0283170\ttest: 1.3807782\tbest: 1.3804806 (480)\ttotal: 1h 9m 9s\tremaining: 5h 44m 58s\n",
      "600:\tlearn: 0.9623662\ttest: 1.3804468\tbest: 1.3797075 (552)\ttotal: 1h 23m\tremaining: 5h 31m 21s\n",
      "700:\tlearn: 0.9025148\ttest: 1.3824082\tbest: 1.3797075 (552)\ttotal: 1h 36m 53s\tremaining: 5h 17m 44s\n",
      "800:\tlearn: 0.8488571\ttest: 1.3828851\tbest: 1.3797075 (552)\ttotal: 1h 50m 43s\tremaining: 5h 3m 58s\n",
      "900:\tlearn: 0.8044953\ttest: 1.3839031\tbest: 1.3797075 (552)\ttotal: 2h 4m 34s\tremaining: 4h 50m 12s\n",
      "1000:\tlearn: 0.7637599\ttest: 1.3856563\tbest: 1.3797075 (552)\ttotal: 2h 18m 25s\tremaining: 4h 36m 26s\n",
      "1100:\tlearn: 0.7263434\ttest: 1.3876262\tbest: 1.3797075 (552)\ttotal: 2h 32m 18s\tremaining: 4h 22m 42s\n",
      "1200:\tlearn: 0.6887090\ttest: 1.3884669\tbest: 1.3797075 (552)\ttotal: 2h 46m 11s\tremaining: 4h 8m 55s\n",
      "1300:\tlearn: 0.6550614\ttest: 1.3875169\tbest: 1.3797075 (552)\ttotal: 3h 15s\tremaining: 3h 55m 23s\n",
      "1400:\tlearn: 0.6267045\ttest: 1.3879759\tbest: 1.3797075 (552)\ttotal: 3h 14m 55s\tremaining: 3h 42m 28s\n",
      "1500:\tlearn: 0.6044857\ttest: 1.3890501\tbest: 1.3797075 (552)\ttotal: 3h 31m 26s\tremaining: 3h 31m 10s\n"
     ]
    },
    {
     "ename": "KeyboardInterrupt",
     "evalue": "",
     "output_type": "error",
     "traceback": [
      "\u001b[0;31m---------------------------------------------------------------------------\u001b[0m",
      "\u001b[0;31mKeyboardInterrupt\u001b[0m                         Traceback (most recent call last)",
      "\u001b[0;32m<ipython-input-15-ca8c22d0baa2>\u001b[0m in \u001b[0;36m<module>\u001b[0;34m()\u001b[0m\n\u001b[1;32m     13\u001b[0m     \u001b[0my_va\u001b[0m \u001b[0;34m=\u001b[0m \u001b[0my\u001b[0m\u001b[0;34m[\u001b[0m\u001b[0my\u001b[0m\u001b[0;34m.\u001b[0m\u001b[0mindex\u001b[0m\u001b[0;34m.\u001b[0m\u001b[0misin\u001b[0m\u001b[0;34m(\u001b[0m\u001b[0mtest_idx\u001b[0m\u001b[0;34m)\u001b[0m\u001b[0;34m]\u001b[0m\u001b[0;34m\u001b[0m\u001b[0m\n\u001b[1;32m     14\u001b[0m     \u001b[0mprint\u001b[0m\u001b[0;34m(\u001b[0m\u001b[0mX_tr\u001b[0m\u001b[0;34m.\u001b[0m\u001b[0mshape\u001b[0m\u001b[0;34m,\u001b[0m \u001b[0my_tr\u001b[0m\u001b[0;34m.\u001b[0m\u001b[0mshape\u001b[0m\u001b[0;34m,\u001b[0m \u001b[0mX_va\u001b[0m\u001b[0;34m.\u001b[0m\u001b[0mshape\u001b[0m\u001b[0;34m,\u001b[0m \u001b[0my_va\u001b[0m\u001b[0;34m.\u001b[0m\u001b[0mshape\u001b[0m\u001b[0;34m)\u001b[0m\u001b[0;34m\u001b[0m\u001b[0m\n\u001b[0;32m---> 15\u001b[0;31m     \u001b[0mvalid\u001b[0m \u001b[0;34m=\u001b[0m \u001b[0mlgbm_model\u001b[0m\u001b[0;34m(\u001b[0m\u001b[0mX_tr\u001b[0m\u001b[0;34m,\u001b[0m \u001b[0my_tr\u001b[0m\u001b[0;34m,\u001b[0m \u001b[0mX_va\u001b[0m\u001b[0;34m,\u001b[0m \u001b[0my_va\u001b[0m\u001b[0;34m,\u001b[0m \u001b[0mX_test\u001b[0m\u001b[0;34m,\u001b[0m \u001b[0mfold\u001b[0m\u001b[0;34m)\u001b[0m\u001b[0;34m\u001b[0m\u001b[0m\n\u001b[0m\u001b[1;32m     16\u001b[0m     \u001b[0mvalid_final\u001b[0m \u001b[0;34m=\u001b[0m \u001b[0mvalid_final\u001b[0m\u001b[0;34m.\u001b[0m\u001b[0mjoin\u001b[0m\u001b[0;34m(\u001b[0m\u001b[0mvalid\u001b[0m\u001b[0;34m)\u001b[0m\u001b[0;34m\u001b[0m\u001b[0m\n\u001b[1;32m     17\u001b[0m     \u001b[0mprint\u001b[0m\u001b[0;34m(\u001b[0m\u001b[0mvalid\u001b[0m\u001b[0;34m.\u001b[0m\u001b[0mshape\u001b[0m\u001b[0;34m,\u001b[0m \u001b[0mvalid_final\u001b[0m\u001b[0;34m.\u001b[0m\u001b[0mshape\u001b[0m\u001b[0;34m)\u001b[0m\u001b[0;34m\u001b[0m\u001b[0m\n",
      "\u001b[0;32m<ipython-input-14-a6c32d0b5ff8>\u001b[0m in \u001b[0;36mlgbm_model\u001b[0;34m(X_tr, y_tr, X_va, y_va, test, fold)\u001b[0m\n\u001b[1;32m      1\u001b[0m \u001b[0;32mdef\u001b[0m \u001b[0mlgbm_model\u001b[0m\u001b[0;34m(\u001b[0m\u001b[0mX_tr\u001b[0m\u001b[0;34m,\u001b[0m \u001b[0my_tr\u001b[0m\u001b[0;34m,\u001b[0m \u001b[0mX_va\u001b[0m\u001b[0;34m,\u001b[0m \u001b[0my_va\u001b[0m\u001b[0;34m,\u001b[0m \u001b[0mtest\u001b[0m\u001b[0;34m,\u001b[0m \u001b[0mfold\u001b[0m\u001b[0;34m)\u001b[0m\u001b[0;34m:\u001b[0m\u001b[0;34m\u001b[0m\u001b[0m\n\u001b[1;32m      2\u001b[0m \u001b[0;34m\u001b[0m\u001b[0m\n\u001b[0;32m----> 3\u001b[0;31m     \u001b[0mmodel\u001b[0m\u001b[0;34m.\u001b[0m\u001b[0mfit\u001b[0m\u001b[0;34m(\u001b[0m\u001b[0mX_tr\u001b[0m\u001b[0;34m,\u001b[0m \u001b[0my_tr\u001b[0m\u001b[0;34m,\u001b[0m \u001b[0muse_best_model\u001b[0m\u001b[0;34m=\u001b[0m\u001b[0;32mTrue\u001b[0m\u001b[0;34m,\u001b[0m \u001b[0meval_set\u001b[0m\u001b[0;34m=\u001b[0m\u001b[0;34m(\u001b[0m\u001b[0mX_va\u001b[0m\u001b[0;34m,\u001b[0m \u001b[0my_va\u001b[0m\u001b[0;34m)\u001b[0m\u001b[0;34m,\u001b[0m \u001b[0mverbose\u001b[0m\u001b[0;34m=\u001b[0m\u001b[0;32mTrue\u001b[0m\u001b[0;34m)\u001b[0m\u001b[0;34m\u001b[0m\u001b[0m\n\u001b[0m\u001b[1;32m      4\u001b[0m \u001b[0;34m\u001b[0m\u001b[0m\n\u001b[1;32m      5\u001b[0m     \u001b[0my_pred\u001b[0m \u001b[0;34m=\u001b[0m \u001b[0mmodel\u001b[0m\u001b[0;34m.\u001b[0m\u001b[0mpredict\u001b[0m\u001b[0;34m(\u001b[0m\u001b[0mX_va\u001b[0m\u001b[0;34m)\u001b[0m\u001b[0;34m\u001b[0m\u001b[0m\n",
      "\u001b[0;32m~/anaconda3/lib/python3.6/site-packages/catboost/core.py\u001b[0m in \u001b[0;36mfit\u001b[0;34m(self, X, y, cat_features, sample_weight, baseline, use_best_model, eval_set, verbose, logging_level, plot, column_description, verbose_eval)\u001b[0m\n\u001b[1;32m   2003\u001b[0m         \u001b[0mmodel\u001b[0m \u001b[0;34m:\u001b[0m \u001b[0mCatBoost\u001b[0m\u001b[0;34m\u001b[0m\u001b[0m\n\u001b[1;32m   2004\u001b[0m         \"\"\"\n\u001b[0;32m-> 2005\u001b[0;31m         \u001b[0;32mreturn\u001b[0m \u001b[0mself\u001b[0m\u001b[0;34m.\u001b[0m\u001b[0m_fit\u001b[0m\u001b[0;34m(\u001b[0m\u001b[0mX\u001b[0m\u001b[0;34m,\u001b[0m \u001b[0my\u001b[0m\u001b[0;34m,\u001b[0m \u001b[0mcat_features\u001b[0m\u001b[0;34m,\u001b[0m \u001b[0;32mNone\u001b[0m\u001b[0;34m,\u001b[0m \u001b[0msample_weight\u001b[0m\u001b[0;34m,\u001b[0m \u001b[0;32mNone\u001b[0m\u001b[0;34m,\u001b[0m \u001b[0;32mNone\u001b[0m\u001b[0;34m,\u001b[0m \u001b[0;32mNone\u001b[0m\u001b[0;34m,\u001b[0m \u001b[0mbaseline\u001b[0m\u001b[0;34m,\u001b[0m \u001b[0muse_best_model\u001b[0m\u001b[0;34m,\u001b[0m \u001b[0meval_set\u001b[0m\u001b[0;34m,\u001b[0m \u001b[0mverbose\u001b[0m\u001b[0;34m,\u001b[0m \u001b[0mlogging_level\u001b[0m\u001b[0;34m,\u001b[0m \u001b[0mplot\u001b[0m\u001b[0;34m,\u001b[0m \u001b[0mcolumn_description\u001b[0m\u001b[0;34m,\u001b[0m \u001b[0mverbose_eval\u001b[0m\u001b[0;34m)\u001b[0m\u001b[0;34m\u001b[0m\u001b[0m\n\u001b[0m\u001b[1;32m   2006\u001b[0m \u001b[0;34m\u001b[0m\u001b[0m\n\u001b[1;32m   2007\u001b[0m     \u001b[0;32mdef\u001b[0m \u001b[0mpredict\u001b[0m\u001b[0;34m(\u001b[0m\u001b[0mself\u001b[0m\u001b[0;34m,\u001b[0m \u001b[0mdata\u001b[0m\u001b[0;34m,\u001b[0m \u001b[0mntree_start\u001b[0m\u001b[0;34m=\u001b[0m\u001b[0;36m0\u001b[0m\u001b[0;34m,\u001b[0m \u001b[0mntree_end\u001b[0m\u001b[0;34m=\u001b[0m\u001b[0;36m0\u001b[0m\u001b[0;34m,\u001b[0m \u001b[0mthread_count\u001b[0m\u001b[0;34m=\u001b[0m\u001b[0;34m-\u001b[0m\u001b[0;36m1\u001b[0m\u001b[0;34m,\u001b[0m \u001b[0mverbose\u001b[0m\u001b[0;34m=\u001b[0m\u001b[0;32mNone\u001b[0m\u001b[0;34m)\u001b[0m\u001b[0;34m:\u001b[0m\u001b[0;34m\u001b[0m\u001b[0m\n",
      "\u001b[0;32m~/anaconda3/lib/python3.6/site-packages/catboost/core.py\u001b[0m in \u001b[0;36m_fit\u001b[0;34m(self, X, y, cat_features, pairs, sample_weight, group_id, subgroup_id, pairs_weight, baseline, use_best_model, eval_set, verbose, logging_level, plot, column_description, verbose_eval)\u001b[0m\n\u001b[1;32m    784\u001b[0m \u001b[0;34m\u001b[0m\u001b[0m\n\u001b[1;32m    785\u001b[0m         \u001b[0;32mwith\u001b[0m \u001b[0mlog_fixup\u001b[0m\u001b[0;34m(\u001b[0m\u001b[0;34m)\u001b[0m\u001b[0;34m:\u001b[0m\u001b[0;34m\u001b[0m\u001b[0m\n\u001b[0;32m--> 786\u001b[0;31m             \u001b[0mself\u001b[0m\u001b[0;34m.\u001b[0m\u001b[0m_train\u001b[0m\u001b[0;34m(\u001b[0m\u001b[0mtrain_pool\u001b[0m\u001b[0;34m,\u001b[0m \u001b[0meval_set\u001b[0m\u001b[0;34m,\u001b[0m \u001b[0mparams\u001b[0m\u001b[0;34m,\u001b[0m \u001b[0mallow_clear_pool\u001b[0m\u001b[0;34m)\u001b[0m\u001b[0;34m\u001b[0m\u001b[0m\n\u001b[0m\u001b[1;32m    787\u001b[0m         \u001b[0;32mif\u001b[0m \u001b[0mcalc_feature_importance\u001b[0m\u001b[0;34m:\u001b[0m\u001b[0;34m\u001b[0m\u001b[0m\n\u001b[1;32m    788\u001b[0m             \u001b[0;32mif\u001b[0m \u001b[0mallow_clear_pool\u001b[0m\u001b[0;34m:\u001b[0m\u001b[0;34m\u001b[0m\u001b[0m\n",
      "\u001b[0;32m_catboost.pyx\u001b[0m in \u001b[0;36m_catboost._CatBoostBase._train\u001b[0;34m()\u001b[0m\n",
      "\u001b[0;32m_catboost.pyx\u001b[0m in \u001b[0;36m_catboost._CatBoost._train\u001b[0;34m()\u001b[0m\n",
      "\u001b[0;32m_catboost.pyx\u001b[0m in \u001b[0;36m_catboost._CatBoost._train\u001b[0;34m()\u001b[0m\n",
      "\u001b[0;31mKeyboardInterrupt\u001b[0m: "
     ]
    }
   ],
   "source": [
    "from sklearn.model_selection import KFold\n",
    "X = X_train\n",
    "y = y_train\n",
    "kf = KFold(n_splits=5, shuffle=True, random_state=2017)\n",
    "kf.get_n_splits(X), kf.split(X)\n",
    "fold=1\n",
    "valid_final = test_df[['ID']]\n",
    "for train_idx, test_idx in kf.split(X):\n",
    "    print(\"FOLD \", fold, \" ----------------------------------------------------------------------------------\")\n",
    "    X_tr = X[X.index.isin(train_idx)]\n",
    "    y_tr = y[y.index.isin(train_idx)]\n",
    "    X_va = X[X.index.isin(test_idx)]\n",
    "    y_va = y[y.index.isin(test_idx)]\n",
    "    print(X_tr.shape, y_tr.shape, X_va.shape, y_va.shape)\n",
    "    valid = lgbm_model(X_tr, y_tr, X_va, y_va, X_test, fold)\n",
    "    valid_final = valid_final.join(valid)\n",
    "    print(valid.shape, valid_final.shape)\n",
    "    fold = fold+1"
   ]
  },
  {
   "cell_type": "code",
   "execution_count": null,
   "metadata": {},
   "outputs": [],
   "source": [
    "valid_final['target'] = valid_final.iloc[:,1:fold].mean(axis=1)\n",
    "valid_final['target'] = valid_final['target'].map(lambda x : exp(x)-1)\n",
    "valid_final = valid_final.iloc[:49342]"
   ]
  },
  {
   "cell_type": "code",
   "execution_count": null,
   "metadata": {},
   "outputs": [],
   "source": [
    "valid_final.to_csv(path + 'submit/' + 'catboost_Random_Projection_Aggregate_10_fold.csv', index=False)\n",
    "valid_final[['ID', 'target']].to_csv(path + 'submit/' + 'catboost_Random_Projection_Aggregate.csv', index=False)"
   ]
  },
  {
   "cell_type": "code",
   "execution_count": null,
   "metadata": {},
   "outputs": [],
   "source": [
    "valid_final.head()"
   ]
  }
 ],
 "metadata": {
  "kernelspec": {
   "display_name": "Python 3",
   "language": "python",
   "name": "python3"
  },
  "language_info": {
   "codemirror_mode": {
    "name": "ipython",
    "version": 3
   },
   "file_extension": ".py",
   "mimetype": "text/x-python",
   "name": "python",
   "nbconvert_exporter": "python",
   "pygments_lexer": "ipython3",
   "version": "3.6.3"
  }
 },
 "nbformat": 4,
 "nbformat_minor": 2
}
