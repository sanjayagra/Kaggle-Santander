{
 "cells": [
  {
   "cell_type": "code",
   "execution_count": 2,
   "metadata": {},
   "outputs": [],
   "source": [
    "import numpy as np\n",
    "import pandas as pd\n",
    "from sklearn.model_selection import train_test_split\n",
    "from sklearn import random_projection\n",
    "import lightgbm as lgb\n",
    "from math import exp, log\n",
    "path = '/home/ec2-user/Sanjay/main/santander/'"
   ]
  },
  {
   "cell_type": "code",
   "execution_count": 3,
   "metadata": {},
   "outputs": [
    {
     "data": {
      "text/plain": [
       "((4459, 4730), (49343, 4730), (4459, 1))"
      ]
     },
     "execution_count": 3,
     "metadata": {},
     "output_type": "execute_result"
    }
   ],
   "source": [
    "X_train = pd.read_csv(path + 'codes/data/' + '1_raw_data_train.csv')\n",
    "X_test = pd.read_csv(path + 'codes/data/' + '1_raw_data_test.csv')\n",
    "\n",
    "test_df = pd.read_csv(path + 'test.csv',  usecols=['ID'])\n",
    "train_df = pd.read_csv(path + 'train.csv', usecols=['target'])\n",
    "y_train = train_df[['target']]['target'].map(lambda x : log(1+x))\n",
    "X_train.shape, X_test.shape, train_df.shape"
   ]
  },
  {
   "cell_type": "code",
   "execution_count": 4,
   "metadata": {},
   "outputs": [
    {
     "name": "stdout",
     "output_type": "stream",
     "text": [
      "(4459, 50) (49343, 50) (4459, 9) (49343, 9) (4459, 9) (49343, 9) (4459, 20) (49343, 20)\n"
     ]
    }
   ],
   "source": [
    "Random_Projection_train = pd.read_csv(path + 'codes/data/' + '2_Random_Projection_train.csv')\n",
    "Random_Projection_test = pd.read_csv(path + 'codes/data/' + '2_Random_Projection_test.csv')\n",
    "\n",
    "kmeans_train = pd.read_csv(path + 'codes/data/' + '3_kmeans_train.csv')\n",
    "kmeans_test = pd.read_csv(path + 'codes/data/' + '3_kmeans_test.csv')\n",
    "\n",
    "aggr_train = pd.read_csv(path + 'codes/data/' + '4_aggr_train.csv')\n",
    "aggr_test = pd.read_csv(path + 'codes/data/' + '4_aggr_test.csv')\n",
    "\n",
    "pca_train = pd.read_csv(path + 'codes/data/' + '5_pca_train.csv')\n",
    "pca_test = pd.read_csv(path + 'codes/data/' + '5_pca_test.csv')\n",
    "\n",
    "print(Random_Projection_train.shape, Random_Projection_test.shape, \n",
    "      kmeans_train.shape, kmeans_test.shape,\n",
    "      aggr_train.shape, aggr_test.shape, \n",
    "      pca_train.shape, pca_test.shape )"
   ]
  },
  {
   "cell_type": "code",
   "execution_count": 13,
   "metadata": {},
   "outputs": [
    {
     "data": {
      "text/plain": [
       "((4459, 4818), (49343, 4818))"
      ]
     },
     "execution_count": 13,
     "metadata": {},
     "output_type": "execute_result"
    }
   ],
   "source": [
    "train = X_train.join(Random_Projection_train).join(kmeans_train).join(aggr_train).join(pca_train).fillna(0)\n",
    "test = X_test.join(Random_Projection_test).join(kmeans_test).join(aggr_test).join(pca_test).fillna(0)\n",
    "train.shape, test.shape"
   ]
  },
  {
   "cell_type": "markdown",
   "metadata": {},
   "source": [
    "### Weak RandomForestRegressor"
   ]
  },
  {
   "cell_type": "code",
   "execution_count": 6,
   "metadata": {},
   "outputs": [
    {
     "name": "stdout",
     "output_type": "stream",
     "text": [
      "0.09410954790021511\n"
     ]
    },
    {
     "data": {
      "text/plain": [
       "(4459, 4500)"
      ]
     },
     "execution_count": 6,
     "metadata": {},
     "output_type": "execute_result"
    }
   ],
   "source": [
    "from sklearn import model_selection\n",
    "from sklearn import ensemble\n",
    "NUM_OF_FEATURES = 4500\n",
    "def rmsle(y, pred):\n",
    "    return np.sqrt(np.mean(np.power(np.log1p(y)-np.log1p(pred), 2)))\n",
    "\n",
    "x1, x2, y1, y2 = model_selection.train_test_split(\n",
    "    train, y_train.values, test_size=0.20, random_state=5)\n",
    "model = ensemble.RandomForestRegressor(n_jobs=-1, random_state=7)\n",
    "model.fit(x1, y1)\n",
    "print(rmsle(y2, model.predict(x2)))\n",
    "\n",
    "col = pd.DataFrame({'importance': model.feature_importances_, 'feature': train.columns}).sort_values(\n",
    "    by=['importance'], ascending=[False])[:NUM_OF_FEATURES]['feature'].values\n",
    "train = train[col]\n",
    "test = test[col]\n",
    "train.shape"
   ]
  },
  {
   "cell_type": "markdown",
   "metadata": {},
   "source": [
    "### Kolmogorov-Smirnov test"
   ]
  },
  {
   "cell_type": "code",
   "execution_count": 14,
   "metadata": {},
   "outputs": [
    {
     "data": {
      "text/plain": [
       "(4459, 4777)"
      ]
     },
     "execution_count": 14,
     "metadata": {},
     "output_type": "execute_result"
    }
   ],
   "source": [
    "from scipy.stats import ks_2samp\n",
    "THRESHOLD_P_VALUE = 0.01 #need tuned\n",
    "THRESHOLD_STATISTIC = 0.2 #need tuned\n",
    "diff_cols = []\n",
    "for col in train.columns:\n",
    "    statistic, pvalue = ks_2samp(train[col].values, test[col].values)\n",
    "    if pvalue <= THRESHOLD_P_VALUE and np.abs(statistic) > THRESHOLD_STATISTIC:\n",
    "        diff_cols.append(col)\n",
    "for col in diff_cols:\n",
    "    if col in train.columns:\n",
    "        train.drop(col, axis=1, inplace=True)\n",
    "        test.drop(col, axis=1, inplace=True)\n",
    "train.shape"
   ]
  },
  {
   "cell_type": "markdown",
   "metadata": {},
   "source": [
    "#### LGBM Models"
   ]
  },
  {
   "cell_type": "code",
   "execution_count": 15,
   "metadata": {},
   "outputs": [],
   "source": [
    "parameters = {\n",
    "    'task': 'train',\n",
    "    'boosting_type': 'gbdt',\n",
    "    'objective': 'regression',\n",
    "    'metric': 'rmse',\n",
    "    'num_leaves': 60,\n",
    "    'learning_rate': 0.005,\n",
    "    'feature_fraction': 0.9,\n",
    "    'bagging_fraction': 0.8,\n",
    "    'bagging_seed' : 42,\n",
    "    'bagging_freq': 5,\n",
    "    'verbose': 50\n",
    "}"
   ]
  },
  {
   "cell_type": "code",
   "execution_count": 16,
   "metadata": {},
   "outputs": [],
   "source": [
    "def lgbm_model(X_tr, y_tr, X_va, y_va, test, fold):\n",
    "    tr_data = lgb.Dataset(X_tr, label=y_tr)\n",
    "    va_data = lgb.Dataset(X_va, label=y_va)\n",
    "    \n",
    "    model = lgb.train(parameters,\n",
    "                      tr_data,\n",
    "                      valid_sets=va_data,\n",
    "                      num_boost_round=4000,\n",
    "                      early_stopping_rounds=120,\n",
    "                      verbose_eval=300)\n",
    "    \n",
    "    y_pred = model.predict(X_va)\n",
    "    valid = pd.DataFrame(y_pred, columns=['prob' + str(fold)])\n",
    "    test_pred = model.predict(test)\n",
    "    test = pd.DataFrame(test_pred, columns=['prob' + str(fold)])\n",
    "    return test"
   ]
  },
  {
   "cell_type": "code",
   "execution_count": 17,
   "metadata": {},
   "outputs": [
    {
     "name": "stdout",
     "output_type": "stream",
     "text": [
      "FOLD  1  ----------------------------------------------------------------------------------\n",
      "(4013, 4777) (4013,) (446, 4777) (446,)\n",
      "Training until validation scores don't improve for 120 rounds.\n",
      "[300]\tvalid_0's rmse: 1.38206\n",
      "[600]\tvalid_0's rmse: 1.35358\n",
      "Early stopping, best iteration is:\n",
      "[771]\tvalid_0's rmse: 1.35061\n",
      "(49343, 1) (49343, 2)\n",
      "FOLD  2  ----------------------------------------------------------------------------------\n",
      "(4013, 4777) (4013,) (446, 4777) (446,)\n",
      "Training until validation scores don't improve for 120 rounds.\n",
      "[300]\tvalid_0's rmse: 1.4491\n",
      "[600]\tvalid_0's rmse: 1.41166\n",
      "Early stopping, best iteration is:\n",
      "[770]\tvalid_0's rmse: 1.41053\n",
      "(49343, 1) (49343, 3)\n",
      "FOLD  3  ----------------------------------------------------------------------------------\n",
      "(4013, 4777) (4013,) (446, 4777) (446,)\n",
      "Training until validation scores don't improve for 120 rounds.\n",
      "[300]\tvalid_0's rmse: 1.44821\n",
      "[600]\tvalid_0's rmse: 1.37789\n",
      "[900]\tvalid_0's rmse: 1.36471\n",
      "Early stopping, best iteration is:\n",
      "[1060]\tvalid_0's rmse: 1.36205\n",
      "(49343, 1) (49343, 4)\n",
      "FOLD  4  ----------------------------------------------------------------------------------\n",
      "(4013, 4777) (4013,) (446, 4777) (446,)\n",
      "Training until validation scores don't improve for 120 rounds.\n",
      "[300]\tvalid_0's rmse: 1.40588\n",
      "[600]\tvalid_0's rmse: 1.34794\n",
      "[900]\tvalid_0's rmse: 1.33561\n",
      "[1200]\tvalid_0's rmse: 1.3317\n",
      "Early stopping, best iteration is:\n",
      "[1228]\tvalid_0's rmse: 1.33145\n",
      "(49343, 1) (49343, 5)\n",
      "FOLD  5  ----------------------------------------------------------------------------------\n",
      "(4013, 4777) (4013,) (446, 4777) (446,)\n",
      "Training until validation scores don't improve for 120 rounds.\n",
      "[300]\tvalid_0's rmse: 1.41226\n",
      "[600]\tvalid_0's rmse: 1.37506\n",
      "[900]\tvalid_0's rmse: 1.37251\n",
      "Early stopping, best iteration is:\n",
      "[814]\tvalid_0's rmse: 1.37094\n",
      "(49343, 1) (49343, 6)\n",
      "FOLD  6  ----------------------------------------------------------------------------------\n",
      "(4013, 4777) (4013,) (446, 4777) (446,)\n",
      "Training until validation scores don't improve for 120 rounds.\n",
      "[300]\tvalid_0's rmse: 1.46422\n",
      "[600]\tvalid_0's rmse: 1.40874\n",
      "Early stopping, best iteration is:\n",
      "[765]\tvalid_0's rmse: 1.40105\n",
      "(49343, 1) (49343, 7)\n",
      "FOLD  7  ----------------------------------------------------------------------------------\n",
      "(4013, 4777) (4013,) (446, 4777) (446,)\n",
      "Training until validation scores don't improve for 120 rounds.\n",
      "[300]\tvalid_0's rmse: 1.46808\n",
      "[600]\tvalid_0's rmse: 1.41424\n",
      "[900]\tvalid_0's rmse: 1.40897\n",
      "Early stopping, best iteration is:\n",
      "[854]\tvalid_0's rmse: 1.40821\n",
      "(49343, 1) (49343, 8)\n",
      "FOLD  8  ----------------------------------------------------------------------------------\n",
      "(4013, 4777) (4013,) (446, 4777) (446,)\n",
      "Training until validation scores don't improve for 120 rounds.\n",
      "[300]\tvalid_0's rmse: 1.48801\n",
      "[600]\tvalid_0's rmse: 1.42334\n",
      "[900]\tvalid_0's rmse: 1.40638\n",
      "[1200]\tvalid_0's rmse: 1.40016\n",
      "Early stopping, best iteration is:\n",
      "[1178]\tvalid_0's rmse: 1.39947\n",
      "(49343, 1) (49343, 9)\n",
      "FOLD  9  ----------------------------------------------------------------------------------\n",
      "(4013, 4777) (4013,) (446, 4777) (446,)\n",
      "Training until validation scores don't improve for 120 rounds.\n",
      "[300]\tvalid_0's rmse: 1.4356\n",
      "[600]\tvalid_0's rmse: 1.37703\n",
      "[900]\tvalid_0's rmse: 1.36961\n",
      "Early stopping, best iteration is:\n",
      "[910]\tvalid_0's rmse: 1.36942\n",
      "(49343, 1) (49343, 10)\n",
      "FOLD  10  ----------------------------------------------------------------------------------\n",
      "(4014, 4777) (4014,) (445, 4777) (445,)\n",
      "Training until validation scores don't improve for 120 rounds.\n",
      "[300]\tvalid_0's rmse: 1.47483\n",
      "[600]\tvalid_0's rmse: 1.42228\n",
      "[900]\tvalid_0's rmse: 1.4124\n",
      "[1200]\tvalid_0's rmse: 1.40669\n",
      "Early stopping, best iteration is:\n",
      "[1285]\tvalid_0's rmse: 1.40642\n",
      "(49343, 1) (49343, 11)\n"
     ]
    }
   ],
   "source": [
    "from sklearn.model_selection import KFold\n",
    "X = train\n",
    "y = y_train\n",
    "kf = KFold(n_splits=10, shuffle=True, random_state=2017)\n",
    "kf.get_n_splits(X), kf.split(X)\n",
    "fold=1\n",
    "valid_final = test_df[['ID']]\n",
    "for train_idx, test_idx in kf.split(X):\n",
    "    print(\"FOLD \", fold, \" ----------------------------------------------------------------------------------\")\n",
    "    X_tr = X[X.index.isin(train_idx)]\n",
    "    y_tr = y[y.index.isin(train_idx)]\n",
    "    X_va = X[X.index.isin(test_idx)]\n",
    "    y_va = y[y.index.isin(test_idx)]\n",
    "    print(X_tr.shape, y_tr.shape, X_va.shape, y_va.shape)\n",
    "    valid = lgbm_model(X_tr, y_tr, X_va, y_va, test, fold)\n",
    "    valid_final = valid_final.join(valid)\n",
    "    print(valid.shape, valid_final.shape)\n",
    "    fold = fold+1"
   ]
  },
  {
   "cell_type": "code",
   "execution_count": 11,
   "metadata": {},
   "outputs": [],
   "source": [
    "valid_final['target'] = valid_final.iloc[:,1:fold].mean(axis=1)\n",
    "valid_final['target'] = valid_final['target'].map(lambda x : exp(x)-1)"
   ]
  },
  {
   "cell_type": "code",
   "execution_count": 12,
   "metadata": {},
   "outputs": [],
   "source": [
    "valid_final = valid_final.iloc[:49342]\n",
    "valid_final.to_csv(path + 'submit/' + 'lgbm_10fold_1.csv', index=False)\n",
    "valid_final[['ID', 'target']].to_csv(path + 'submit/' + 'lgbm_1.csv', index=False)"
   ]
  }
 ],
 "metadata": {
  "kernelspec": {
   "display_name": "Python 3",
   "language": "python",
   "name": "python3"
  },
  "language_info": {
   "codemirror_mode": {
    "name": "ipython",
    "version": 3
   },
   "file_extension": ".py",
   "mimetype": "text/x-python",
   "name": "python",
   "nbconvert_exporter": "python",
   "pygments_lexer": "ipython3",
   "version": "3.6.3"
  }
 },
 "nbformat": 4,
 "nbformat_minor": 2
}
