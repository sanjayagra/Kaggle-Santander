{
 "cells": [
  {
   "cell_type": "code",
   "execution_count": 31,
   "metadata": {},
   "outputs": [],
   "source": [
    "import numpy as np\n",
    "import pandas as pd\n",
    "from sklearn.model_selection import train_test_split\n",
    "from sklearn import random_projection\n",
    "import lightgbm as lgb\n",
    "from math import exp, log\n",
    "path = '/home/ec2-user/Sanjay/main/santander/'"
   ]
  },
  {
   "cell_type": "code",
   "execution_count": 32,
   "metadata": {},
   "outputs": [
    {
     "data": {
      "text/plain": [
       "((4459, 4991), (49343, 4991))"
      ]
     },
     "execution_count": 32,
     "metadata": {},
     "output_type": "execute_result"
    }
   ],
   "source": [
    "train_df = pd.read_csv(path + 'train.csv')\n",
    "test_df = pd.read_csv(path + 'test.csv')\n",
    "\n",
    "X_train = train_df.drop([\"ID\", \"target\"], axis=1)\n",
    "y_train = train_df[['target']]['target'].map(lambda x : log(1+x))\n",
    "\n",
    "X_test = test_df.drop([\"ID\"], axis=1)\n",
    "ntrain = len(X_train)\n",
    "ntest = len(X_test)\n",
    "X_train.shape, X_test.shape"
   ]
  },
  {
   "cell_type": "code",
   "execution_count": 33,
   "metadata": {},
   "outputs": [
    {
     "name": "stdout",
     "output_type": "stream",
     "text": [
      "Preparetion\n"
     ]
    },
    {
     "data": {
      "text/plain": [
       "((4459, 4735), (49343, 4735), 256)"
      ]
     },
     "execution_count": 33,
     "metadata": {},
     "output_type": "execute_result"
    }
   ],
   "source": [
    "print(\"Preparetion\")\n",
    "colsToRemove = []\n",
    "for col in X_train.columns:\n",
    "    if X_train[col].std() == 0: \n",
    "        colsToRemove.append(col)\n",
    "    \n",
    "X_train.drop(colsToRemove, axis=1, inplace=True)\n",
    "X_test.drop(colsToRemove, axis=1, inplace=True)\n",
    "\n",
    "X_train.shape, X_test.shape, len(colsToRemove)"
   ]
  },
  {
   "cell_type": "code",
   "execution_count": 34,
   "metadata": {},
   "outputs": [
    {
     "data": {
      "text/plain": [
       "((4459, 4730), (49343, 4730), 4)"
      ]
     },
     "execution_count": 34,
     "metadata": {},
     "output_type": "execute_result"
    }
   ],
   "source": [
    "colsToRemove = []\n",
    "colsScaned = []\n",
    "dupList = {}\n",
    "columns = X_train.columns\n",
    "\n",
    "for i in range(len(columns)-1):\n",
    "    v = X_train[columns[i]].values\n",
    "    dupCols = []\n",
    "    for j in range(i+1,len(columns)):\n",
    "        if np.array_equal(v, X_train[columns[j]].values):\n",
    "            colsToRemove.append(columns[j])\n",
    "            if columns[j] not in colsScaned:\n",
    "                dupCols.append(columns[j]) \n",
    "                colsScaned.append(columns[j])\n",
    "                dupList[columns[i]] = dupCols\n",
    "                \n",
    "X_train.drop(colsToRemove, axis=1, inplace=True) \n",
    "X_test.drop(colsToRemove, axis=1, inplace=True)\n",
    "X_train.shape, X_test.shape, len(dupList)"
   ]
  },
  {
   "cell_type": "code",
   "execution_count": 35,
   "metadata": {},
   "outputs": [],
   "source": [
    "weight = ((X_train != 0).sum()/len(X_train)).values"
   ]
  },
  {
   "cell_type": "code",
   "execution_count": 36,
   "metadata": {},
   "outputs": [
    {
     "data": {
      "text/plain": [
       "((4459, 4730), (49343, 4730), (53802, 4730))"
      ]
     },
     "execution_count": 36,
     "metadata": {},
     "output_type": "execute_result"
    }
   ],
   "source": [
    "tmp_train = X_train[X_train!=0]\n",
    "tmp_test = X_test[X_test!=0]\n",
    "tmp = pd.concat([X_train,X_test]).fillna(0)\n",
    "tmp_train.shape, tmp_test.shape, tmp.shape"
   ]
  },
  {
   "cell_type": "code",
   "execution_count": 37,
   "metadata": {},
   "outputs": [],
   "source": [
    "X_train[\"weight_count\"] = (tmp_train*weight).sum(axis=1)\n",
    "X_test[\"weight_count\"] = (tmp_test*weight).sum(axis=1)\n",
    "X_train[\"count_not0\"] = (X_train != 0).sum(axis=1)\n",
    "X_test[\"count_not0\"] = (X_test != 0).sum(axis=1)\n",
    "X_train[\"sum\"] = X_train.sum(axis=1)\n",
    "X_test[\"sum\"] = X_test.sum(axis=1)\n",
    "X_train[\"var\"] = tmp_train.var(axis=1)\n",
    "X_test[\"var\"] = tmp_test.var(axis=1)\n",
    "X_train[\"mean\"] = tmp_train.mean(axis=1)\n",
    "X_test[\"mean\"] = tmp_test.mean(axis=1)\n",
    "X_train[\"std\"] = tmp_train.std(axis=1)\n",
    "X_test[\"std\"] = tmp_test.std(axis=1)\n",
    "X_train[\"max\"] = tmp_train.max(axis=1)\n",
    "X_test[\"max\"] = tmp_test.max(axis=1)\n",
    "X_train[\"min\"] = tmp_train.min(axis=1)\n",
    "X_test[\"min\"] = tmp_test.min(axis=1)"
   ]
  },
  {
   "cell_type": "code",
   "execution_count": 38,
   "metadata": {},
   "outputs": [],
   "source": [
    "del(tmp_train)\n",
    "del(tmp_test)"
   ]
  },
  {
   "cell_type": "code",
   "execution_count": 39,
   "metadata": {},
   "outputs": [],
   "source": [
    "n_com = 50\n",
    "transformer = random_projection.SparseRandomProjection(n_components = n_com)"
   ]
  },
  {
   "cell_type": "code",
   "execution_count": 40,
   "metadata": {},
   "outputs": [],
   "source": [
    "RP = transformer.fit_transform(tmp)\n",
    "rp = pd.DataFrame(RP)"
   ]
  },
  {
   "cell_type": "code",
   "execution_count": 41,
   "metadata": {},
   "outputs": [],
   "source": [
    "columns = [\"RandomProjection{}\".format(i) for i in range(n_com)]\n",
    "rp.columns = columns"
   ]
  },
  {
   "cell_type": "code",
   "execution_count": 42,
   "metadata": {},
   "outputs": [],
   "source": [
    "rp_train = rp[:ntrain]\n",
    "rp_test = rp[ntrain:]\n",
    "rp_test.index = X_test.index"
   ]
  },
  {
   "cell_type": "code",
   "execution_count": 43,
   "metadata": {},
   "outputs": [
    {
     "data": {
      "text/plain": [
       "((4459, 4788), (49343, 4788))"
      ]
     },
     "execution_count": 43,
     "metadata": {},
     "output_type": "execute_result"
    }
   ],
   "source": [
    "X_train = pd.concat([X_train,rp_train],axis=1)\n",
    "X_test = pd.concat([X_test,rp_test],axis=1)\n",
    "X_train.shape, X_test.shape"
   ]
  },
  {
   "cell_type": "markdown",
   "metadata": {},
   "source": [
    "### 5fold CV LightGBM"
   ]
  },
  {
   "cell_type": "code",
   "execution_count": 44,
   "metadata": {},
   "outputs": [],
   "source": [
    "parameters = {\n",
    "    'task': 'train',\n",
    "    'boosting_type': 'gbdt',\n",
    "    'objective': 'regression',\n",
    "    'metric': 'rmse',\n",
    "    'num_leaves': 60,\n",
    "    'learning_rate': 0.005,\n",
    "    'feature_fraction': 0.9,\n",
    "    'bagging_fraction': 0.8,\n",
    "    'bagging_seed' : 42,\n",
    "    'bagging_freq': 5,\n",
    "    'verbose': 50\n",
    "}"
   ]
  },
  {
   "cell_type": "code",
   "execution_count": 45,
   "metadata": {},
   "outputs": [],
   "source": [
    "def lgbm_model(X_tr, y_tr, X_va, y_va, test, fold):\n",
    "    tr_data = lgb.Dataset(X_tr, label=y_tr)\n",
    "    va_data = lgb.Dataset(X_va, label=y_va)\n",
    "    \n",
    "    model = lgb.train(parameters,\n",
    "                      tr_data,\n",
    "                      valid_sets=va_data,\n",
    "                      num_boost_round=4000,\n",
    "                      early_stopping_rounds=120,\n",
    "                      verbose_eval=300)\n",
    "    \n",
    "    y_pred = model.predict(X_va)\n",
    "    valid = pd.DataFrame(y_pred, columns=['prob' + str(fold)])\n",
    "    test_pred = model.predict(test)\n",
    "    test = pd.DataFrame(test_pred, columns=['prob' + str(fold)])\n",
    "    return test"
   ]
  },
  {
   "cell_type": "code",
   "execution_count": 46,
   "metadata": {
    "scrolled": true
   },
   "outputs": [
    {
     "name": "stdout",
     "output_type": "stream",
     "text": [
      "FOLD  1  ----------------------------------------------------------------------------------\n",
      "(4013, 4788) (4013,) (446, 4788) (446,)\n",
      "Training until validation scores don't improve for 120 rounds.\n",
      "[300]\tvalid_0's rmse: 1.35247\n",
      "Early stopping, best iteration is:\n",
      "[429]\tvalid_0's rmse: 1.34552\n",
      "(49343, 1) (49343, 2)\n",
      "FOLD  2  ----------------------------------------------------------------------------------\n",
      "(4013, 4788) (4013,) (446, 4788) (446,)\n",
      "Training until validation scores don't improve for 120 rounds.\n",
      "[300]\tvalid_0's rmse: 1.36723\n",
      "[600]\tvalid_0's rmse: 1.33795\n",
      "Early stopping, best iteration is:\n",
      "[575]\tvalid_0's rmse: 1.33765\n",
      "(49343, 1) (49343, 3)\n",
      "FOLD  3  ----------------------------------------------------------------------------------\n",
      "(4013, 4788) (4013,) (446, 4788) (446,)\n",
      "Training until validation scores don't improve for 120 rounds.\n",
      "[300]\tvalid_0's rmse: 1.37197\n",
      "[600]\tvalid_0's rmse: 1.32835\n",
      "[900]\tvalid_0's rmse: 1.32394\n",
      "Early stopping, best iteration is:\n",
      "[849]\tvalid_0's rmse: 1.32361\n",
      "(49343, 1) (49343, 4)\n",
      "FOLD  4  ----------------------------------------------------------------------------------\n",
      "(4013, 4788) (4013,) (446, 4788) (446,)\n",
      "Training until validation scores don't improve for 120 rounds.\n",
      "[300]\tvalid_0's rmse: 1.35607\n",
      "[600]\tvalid_0's rmse: 1.3217\n",
      "Early stopping, best iteration is:\n",
      "[670]\tvalid_0's rmse: 1.3191\n",
      "(49343, 1) (49343, 5)\n",
      "FOLD  5  ----------------------------------------------------------------------------------\n",
      "(4013, 4788) (4013,) (446, 4788) (446,)\n",
      "Training until validation scores don't improve for 120 rounds.\n",
      "[300]\tvalid_0's rmse: 1.36462\n",
      "[600]\tvalid_0's rmse: 1.34701\n",
      "Early stopping, best iteration is:\n",
      "[607]\tvalid_0's rmse: 1.34678\n",
      "(49343, 1) (49343, 6)\n",
      "FOLD  6  ----------------------------------------------------------------------------------\n",
      "(4013, 4788) (4013,) (446, 4788) (446,)\n",
      "Training until validation scores don't improve for 120 rounds.\n",
      "[300]\tvalid_0's rmse: 1.4312\n",
      "[600]\tvalid_0's rmse: 1.40684\n",
      "Early stopping, best iteration is:\n",
      "[554]\tvalid_0's rmse: 1.40563\n",
      "(49343, 1) (49343, 7)\n",
      "FOLD  7  ----------------------------------------------------------------------------------\n",
      "(4013, 4788) (4013,) (446, 4788) (446,)\n",
      "Training until validation scores don't improve for 120 rounds.\n",
      "[300]\tvalid_0's rmse: 1.39735\n",
      "[600]\tvalid_0's rmse: 1.36521\n",
      "[900]\tvalid_0's rmse: 1.36103\n",
      "Early stopping, best iteration is:\n",
      "[810]\tvalid_0's rmse: 1.36009\n",
      "(49343, 1) (49343, 8)\n",
      "FOLD  8  ----------------------------------------------------------------------------------\n",
      "(4013, 4788) (4013,) (446, 4788) (446,)\n",
      "Training until validation scores don't improve for 120 rounds.\n",
      "[300]\tvalid_0's rmse: 1.40232\n",
      "[600]\tvalid_0's rmse: 1.35014\n",
      "[900]\tvalid_0's rmse: 1.33813\n",
      "[1200]\tvalid_0's rmse: 1.33539\n",
      "Early stopping, best iteration is:\n",
      "[1160]\tvalid_0's rmse: 1.33502\n",
      "(49343, 1) (49343, 9)\n",
      "FOLD  9  ----------------------------------------------------------------------------------\n",
      "(4013, 4788) (4013,) (446, 4788) (446,)\n",
      "Training until validation scores don't improve for 120 rounds.\n",
      "[300]\tvalid_0's rmse: 1.38304\n",
      "[600]\tvalid_0's rmse: 1.34188\n",
      "[900]\tvalid_0's rmse: 1.33946\n",
      "Early stopping, best iteration is:\n",
      "[815]\tvalid_0's rmse: 1.33846\n",
      "(49343, 1) (49343, 10)\n",
      "FOLD  10  ----------------------------------------------------------------------------------\n",
      "(4014, 4788) (4014,) (445, 4788) (445,)\n",
      "Training until validation scores don't improve for 120 rounds.\n",
      "[300]\tvalid_0's rmse: 1.38976\n",
      "[600]\tvalid_0's rmse: 1.34849\n",
      "[900]\tvalid_0's rmse: 1.34347\n",
      "Early stopping, best iteration is:\n",
      "[955]\tvalid_0's rmse: 1.34265\n",
      "(49343, 1) (49343, 11)\n"
     ]
    }
   ],
   "source": [
    "from sklearn.model_selection import KFold\n",
    "X = X_train\n",
    "y = y_train\n",
    "kf = KFold(n_splits=10, shuffle=True, random_state=2017)\n",
    "kf.get_n_splits(X), kf.split(X)\n",
    "fold=1\n",
    "valid_final = test_df[['ID']]\n",
    "for train_idx, test_idx in kf.split(X):\n",
    "    print(\"FOLD \", fold, \" ----------------------------------------------------------------------------------\")\n",
    "    X_tr = X[X.index.isin(train_idx)]\n",
    "    y_tr = y[y.index.isin(train_idx)]\n",
    "    X_va = X[X.index.isin(test_idx)]\n",
    "    y_va = y[y.index.isin(test_idx)]\n",
    "    print(X_tr.shape, y_tr.shape, X_va.shape, y_va.shape)\n",
    "    valid = lgbm_model(X_tr, y_tr, X_va, y_va, X_test, fold)\n",
    "    valid_final = valid_final.join(valid)\n",
    "    print(valid.shape, valid_final.shape)\n",
    "    fold = fold+1"
   ]
  },
  {
   "cell_type": "code",
   "execution_count": 47,
   "metadata": {},
   "outputs": [],
   "source": [
    "valid_final['target'] = valid_final.iloc[:,1:fold].mean(axis=1)\n",
    "valid_final['target'] = valid_final['target'].map(lambda x : exp(x)-1)"
   ]
  },
  {
   "cell_type": "code",
   "execution_count": 48,
   "metadata": {},
   "outputs": [],
   "source": [
    "valid_final = valid_final.iloc[:49342]\n",
    "valid_final.to_csv(path + 'submit/' + 'lgbm_Random_Projection_Aggregate_10_fold1.csv', index=False)\n",
    "valid_final[['ID', 'target']].to_csv(path + 'submit/' + 'lgbm_Random_Projection_Aggregate1.csv', index=False)"
   ]
  },
  {
   "cell_type": "markdown",
   "metadata": {},
   "source": [
    "### Temp"
   ]
  },
  {
   "cell_type": "code",
   "execution_count": 60,
   "metadata": {},
   "outputs": [],
   "source": [
    "data = pd.read_csv(path + 'submit/' + 'lgbm_Random_Projection_Aggregate_10_fold1.csv')"
   ]
  },
  {
   "cell_type": "code",
   "execution_count": 61,
   "metadata": {},
   "outputs": [],
   "source": [
    "data = data[['ID', 'prob4']].rename(columns={'prob4':'target'})\n",
    "data['target'] = data['target'].map(lambda x : exp(x)-1)"
   ]
  },
  {
   "cell_type": "code",
   "execution_count": 63,
   "metadata": {},
   "outputs": [],
   "source": [
    "data[['ID', 'target']].to_csv(path + 'submit/' + 'temp.csv', index=False)"
   ]
  }
 ],
 "metadata": {
  "kernelspec": {
   "display_name": "Python 3",
   "language": "python",
   "name": "python3"
  },
  "language_info": {
   "codemirror_mode": {
    "name": "ipython",
    "version": 3
   },
   "file_extension": ".py",
   "mimetype": "text/x-python",
   "name": "python",
   "nbconvert_exporter": "python",
   "pygments_lexer": "ipython3",
   "version": "3.6.3"
  }
 },
 "nbformat": 4,
 "nbformat_minor": 2
}
